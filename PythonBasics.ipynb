{
  "nbformat": 4,
  "nbformat_minor": 0,
  "metadata": {
    "colab": {
      "provenance": [],
      "authorship_tag": "ABX9TyMP/68sqKAoB3pEQxnHmyL0",
      "include_colab_link": true
    },
    "kernelspec": {
      "name": "python3",
      "display_name": "Python 3"
    },
    "language_info": {
      "name": "python"
    }
  },
  "cells": [
    {
      "cell_type": "markdown",
      "metadata": {
        "id": "view-in-github",
        "colab_type": "text"
      },
      "source": [
        "<a href=\"https://colab.research.google.com/github/midhatkamal5/PythonBasics/blob/main/PythonBasics.ipynb\" target=\"_parent\"><img src=\"https://colab.research.google.com/assets/colab-badge.svg\" alt=\"Open In Colab\"/></a>"
      ]
    },
    {
      "cell_type": "code",
      "source": [
        "print(\"Machine Learning\")"
      ],
      "metadata": {
        "colab": {
          "base_uri": "https://localhost:8080/"
        },
        "id": "C6Z1_zJLRydA",
        "outputId": "e1151025-f850-4c9b-fdaf-17fbc2d50209"
      },
      "execution_count": 1,
      "outputs": [
        {
          "output_type": "stream",
          "name": "stdout",
          "text": [
            "Machine Learning\n"
          ]
        }
      ]
    },
    {
      "cell_type": "code",
      "execution_count": 4,
      "metadata": {
        "colab": {
          "base_uri": "https://localhost:8080/"
        },
        "id": "IIOGyHOnRVEZ",
        "outputId": "5beb5dfa-076f-4c53-db4c-a0030c1493dc"
      },
      "outputs": [
        {
          "output_type": "stream",
          "name": "stdout",
          "text": [
            "x is less than 10\n"
          ]
        }
      ],
      "source": [
        "x = 5\n",
        "if x > 10:\n",
        "  print(\"x is greater than 10\")\n",
        "else:\n",
        "  print(\"x is less than 10\")"
      ]
    },
    {
      "cell_type": "code",
      "source": [
        "name = \"Midhat\""
      ],
      "metadata": {
        "id": "1Cb1iCBCTfqo"
      },
      "execution_count": 5,
      "outputs": []
    },
    {
      "cell_type": "code",
      "source": [
        "rate=7\n",
        "name=\"Bat\"\n",
        "price=9.76\n",
        "category='H'\n",
        "isAvailable=True\n",
        "\n",
        "\n",
        "print(type(rate))\n",
        "print(type(name))\n",
        "print(type(price))\n",
        "print(type(category))\n",
        "print(type(isAvailable))"
      ],
      "metadata": {
        "colab": {
          "base_uri": "https://localhost:8080/"
        },
        "id": "gCi0bnMLTnwV",
        "outputId": "1cab395b-ef58-49ea-b18d-dcd7fb71f98a"
      },
      "execution_count": 9,
      "outputs": [
        {
          "output_type": "stream",
          "name": "stdout",
          "text": [
            "<class 'int'>\n",
            "<class 'str'>\n",
            "<class 'float'>\n",
            "<class 'str'>\n",
            "<class 'bool'>\n"
          ]
        }
      ]
    },
    {
      "cell_type": "code",
      "source": [
        "print(f\"Product Name: {name} ;Product Price: {price}; Product Rate: {rate}\") #f is used for formatting"
      ],
      "metadata": {
        "colab": {
          "base_uri": "https://localhost:8080/"
        },
        "id": "QiRLnsO6UJT8",
        "outputId": "7544fe2d-7df4-4490-b8df-99d0888b04ed"
      },
      "execution_count": 8,
      "outputs": [
        {
          "output_type": "stream",
          "name": "stdout",
          "text": [
            "Product Name: Bat ;Product Price: 9.76; Product Rate: 7\n"
          ]
        }
      ]
    },
    {
      "cell_type": "code",
      "source": [
        "#Type casting -> str()\n",
        "# int()\n",
        "# float()\n",
        "# bool()\n",
        "print(f\"Int Price is: {int(price)}\")\n"
      ],
      "metadata": {
        "colab": {
          "base_uri": "https://localhost:8080/"
        },
        "id": "S4S9ewhRU3Y_",
        "outputId": "8c0d451e-9316-4210-fe07-dd1351f39869"
      },
      "execution_count": 10,
      "outputs": [
        {
          "output_type": "stream",
          "name": "stdout",
          "text": [
            "Round of Price is: 9\n"
          ]
        }
      ]
    },
    {
      "cell_type": "code",
      "source": [
        "name = input(\"Enter your name\")\n",
        "age = int(input(\"Enter your age\"))\n",
        "\n",
        "age = age + 1\n",
        "print(f\"Hello {name}\")\n",
        "print(f\"You are {age} years old\")\n"
      ],
      "metadata": {
        "colab": {
          "base_uri": "https://localhost:8080/"
        },
        "id": "4M34RMr7Vb7u",
        "outputId": "967f28bc-8d09-47c5-94fa-d1913ac9a744"
      },
      "execution_count": 18,
      "outputs": [
        {
          "output_type": "stream",
          "name": "stdout",
          "text": [
            "Enter your nameMidhat\n",
            "Enter your age19\n",
            "Hello Midhat\n",
            "You are 20 years old\n"
          ]
        }
      ]
    }
  ]
}