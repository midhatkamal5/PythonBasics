{
  "nbformat": 4,
  "nbformat_minor": 0,
  "metadata": {
    "colab": {
      "provenance": [],
      "authorship_tag": "ABX9TyOs5lo59+K7yKWM22uk52Sm",
      "include_colab_link": true
    },
    "kernelspec": {
      "name": "python3",
      "display_name": "Python 3"
    },
    "language_info": {
      "name": "python"
    }
  },
  "cells": [
    {
      "cell_type": "markdown",
      "metadata": {
        "id": "view-in-github",
        "colab_type": "text"
      },
      "source": [
        "<a href=\"https://colab.research.google.com/github/midhatkamal5/PythonBasics/blob/main/PythonBasics.ipynb\" target=\"_parent\"><img src=\"https://colab.research.google.com/assets/colab-badge.svg\" alt=\"Open In Colab\"/></a>"
      ]
    },
    {
      "cell_type": "code",
      "source": [
        "print(\"Machine Learning\")"
      ],
      "metadata": {
        "colab": {
          "base_uri": "https://localhost:8080/"
        },
        "id": "C6Z1_zJLRydA",
        "outputId": "e1151025-f850-4c9b-fdaf-17fbc2d50209"
      },
      "execution_count": 1,
      "outputs": [
        {
          "output_type": "stream",
          "name": "stdout",
          "text": [
            "Machine Learning\n"
          ]
        }
      ]
    },
    {
      "cell_type": "markdown",
      "source": [
        "**Checking Value of X**"
      ],
      "metadata": {
        "id": "K3WyIhdYjM2j"
      }
    },
    {
      "cell_type": "code",
      "execution_count": 4,
      "metadata": {
        "colab": {
          "base_uri": "https://localhost:8080/"
        },
        "id": "IIOGyHOnRVEZ",
        "outputId": "5beb5dfa-076f-4c53-db4c-a0030c1493dc"
      },
      "outputs": [
        {
          "output_type": "stream",
          "name": "stdout",
          "text": [
            "x is less than 10\n"
          ]
        }
      ],
      "source": [
        "x = 5\n",
        "if x > 10:\n",
        "  print(\"x is greater than 10\")\n",
        "else:\n",
        "  print(\"x is less than 10\")"
      ]
    },
    {
      "cell_type": "code",
      "source": [
        "name = \"Midhat\""
      ],
      "metadata": {
        "id": "1Cb1iCBCTfqo"
      },
      "execution_count": 5,
      "outputs": []
    },
    {
      "cell_type": "code",
      "source": [
        "rate=7\n",
        "name=\"Bat\"\n",
        "price=9.76\n",
        "category='H'\n",
        "isAvailable=True\n",
        "\n",
        "\n",
        "print(type(rate))\n",
        "print(type(name))\n",
        "print(type(price))\n",
        "print(type(category))\n",
        "print(type(isAvailable))"
      ],
      "metadata": {
        "colab": {
          "base_uri": "https://localhost:8080/"
        },
        "id": "gCi0bnMLTnwV",
        "outputId": "1cab395b-ef58-49ea-b18d-dcd7fb71f98a"
      },
      "execution_count": 9,
      "outputs": [
        {
          "output_type": "stream",
          "name": "stdout",
          "text": [
            "<class 'int'>\n",
            "<class 'str'>\n",
            "<class 'float'>\n",
            "<class 'str'>\n",
            "<class 'bool'>\n"
          ]
        }
      ]
    },
    {
      "cell_type": "code",
      "source": [
        "print(f\"Product Name: {name} ;Product Price: {price}; Product Rate: {rate}\") #f is used for formatting"
      ],
      "metadata": {
        "colab": {
          "base_uri": "https://localhost:8080/"
        },
        "id": "QiRLnsO6UJT8",
        "outputId": "7544fe2d-7df4-4490-b8df-99d0888b04ed"
      },
      "execution_count": 8,
      "outputs": [
        {
          "output_type": "stream",
          "name": "stdout",
          "text": [
            "Product Name: Bat ;Product Price: 9.76; Product Rate: 7\n"
          ]
        }
      ]
    },
    {
      "cell_type": "code",
      "source": [
        "#Type casting -> str()\n",
        "# int()\n",
        "# float()\n",
        "# bool()\n",
        "print(f\"Int Price is: {int(price)}\")\n"
      ],
      "metadata": {
        "colab": {
          "base_uri": "https://localhost:8080/"
        },
        "id": "S4S9ewhRU3Y_",
        "outputId": "8c0d451e-9316-4210-fe07-dd1351f39869"
      },
      "execution_count": 10,
      "outputs": [
        {
          "output_type": "stream",
          "name": "stdout",
          "text": [
            "Round of Price is: 9\n"
          ]
        }
      ]
    },
    {
      "cell_type": "code",
      "source": [
        "name = input(\"Enter your name: \")\n",
        "age = int(input(\"Enter your age: \"))\n",
        "\n",
        "age = age + 1\n",
        "print(f\"Hello {name}\")\n",
        "print(f\"You are {age} years old\")\n"
      ],
      "metadata": {
        "colab": {
          "base_uri": "https://localhost:8080/"
        },
        "id": "4M34RMr7Vb7u",
        "outputId": "881d65db-0f56-463f-fd90-e457b0f5afb9"
      },
      "execution_count": 19,
      "outputs": [
        {
          "output_type": "stream",
          "name": "stdout",
          "text": [
            "Enter your name: Midhat\n",
            "Enter your age: 25\n",
            "Hello Midhat\n",
            "You are 26 years old\n"
          ]
        }
      ]
    },
    {
      "cell_type": "markdown",
      "source": [
        "## **Rectangle Area Calculation**"
      ],
      "metadata": {
        "id": "Z5wMZJxsjSoS"
      }
    },
    {
      "cell_type": "code",
      "source": [
        "#Rectangle Area Calculation\n",
        "width = float(input(\"Please enter the width: \"))\n",
        "height = float(input(\"Please enter the height: \"))\n",
        "print(f\"The area is: {width*height}\")"
      ],
      "metadata": {
        "colab": {
          "base_uri": "https://localhost:8080/"
        },
        "id": "ysDbGr5UYci0",
        "outputId": "46289bed-3d7b-4e27-8054-3d6025999330"
      },
      "execution_count": 20,
      "outputs": [
        {
          "output_type": "stream",
          "name": "stdout",
          "text": [
            "Please enter the width: 5.5\n",
            "Please enter the height: 5.5\n",
            "The area is: 30.25\n"
          ]
        }
      ]
    },
    {
      "cell_type": "markdown",
      "source": [
        "## **Shopping Cart Program**"
      ],
      "metadata": {
        "id": "gfHiakkfjYEi"
      }
    },
    {
      "cell_type": "code",
      "source": [
        "#Shopping Cart Program\n",
        "productName =  \"Bat\"\n",
        "unitPrice = 102.56\n",
        "quantity = int(input(\"Please enter the quantity of Bat: \"))\n",
        "print(f\"Product Name: {productName}\")\n",
        "print(f\"Unit Price: Rs.{unitPrice}\")\n",
        "print(f\"Price: Rs.{quantity*unitPrice}\")"
      ],
      "metadata": {
        "colab": {
          "base_uri": "https://localhost:8080/"
        },
        "id": "tQulxCf2ZDyU",
        "outputId": "2027d3f3-fc88-4a90-c712-7827788926d4"
      },
      "execution_count": 28,
      "outputs": [
        {
          "output_type": "stream",
          "name": "stdout",
          "text": [
            "Please enter the quantity of Bat: 5\n",
            "Product Name: Bat\n",
            "Unit Price: Rs.102.56\n",
            "Price: Rs.512.8\n"
          ]
        }
      ]
    },
    {
      "cell_type": "code",
      "source": [
        "#Indexing\n",
        "creditCardNumber = \"1234-5678-9012-6354\"\n",
        "print(creditCardNumber[0])\n",
        "print(creditCardNumber[5:9])\n",
        "print(creditCardNumber[:9])\n",
        "print(creditCardNumber[9:])\n",
        "print(creditCardNumber[::2]) #go from start to end by skipping 2 (step size)\n",
        "\n",
        "#reverse indexing\n",
        "print(creditCardNumber[-1])\n"
      ],
      "metadata": {
        "colab": {
          "base_uri": "https://localhost:8080/"
        },
        "id": "D80dti2sbD4-",
        "outputId": "ae738f54-7980-4705-c5ba-1c4a0329f5e8"
      },
      "execution_count": 41,
      "outputs": [
        {
          "output_type": "stream",
          "name": "stdout",
          "text": [
            "1\n",
            "5678\n",
            "1234-5678\n",
            "-9012-6354\n",
            "13-6891-34\n",
            "4\n"
          ]
        }
      ]
    },
    {
      "cell_type": "code",
      "source": [
        "arr = []\n",
        "encryptedStr=\"\";\n",
        "creditCardNumberInput = input(\"Enter the card number: \")\n",
        "tobeencrypted = creditCardNumberInput[0:len(creditCardNumberInput)-4]\n",
        "print(f\"{tobeencrypted}\")\n",
        "for x in range(len(tobeencrypted)):\n",
        "  if tobeencrypted[x] == \"-\":\n",
        "    encryptedStr += '-'\n",
        "  else:\n",
        "    encryptedStr += 'X'\n",
        "lastdigits = creditCardNumberInput[-4:]\n",
        "print(f\"Your credit card last digits are: {encryptedStr}{lastdigits}\")\n"
      ],
      "metadata": {
        "colab": {
          "base_uri": "https://localhost:8080/"
        },
        "id": "l7QPOtspdIIk",
        "outputId": "91decf25-ff99-43da-898c-56aee2ef7ffe"
      },
      "execution_count": 71,
      "outputs": [
        {
          "output_type": "stream",
          "name": "stdout",
          "text": [
            "Enter the card number: 1234-5678-9012-6354\n",
            "1234-5678-9012-\n",
            "Your credit card last digits are: XXXX-XXXX-XXXX-6354\n"
          ]
        }
      ]
    },
    {
      "cell_type": "code",
      "source": [],
      "metadata": {
        "id": "5_a7Db32fYAn"
      },
      "execution_count": null,
      "outputs": []
    },
    {
      "cell_type": "markdown",
      "source": [
        "## **String Methods**"
      ],
      "metadata": {
        "id": "xcnESs0kjc5q"
      }
    },
    {
      "cell_type": "code",
      "source": [
        "x = \"Hello Customer! Your credit card number is 1234-5678-9012-6354\"\n",
        "var1 = x.find(\"s\")\n",
        "var2 = x.rfind(\"b\")\n",
        "var3 = x.capitalize()\n",
        "var4 = x.title()\n",
        "var5 = x.upper()\n",
        "var6 = x.lower()\n",
        "var7 = x.isdigit()\n",
        "var8 = x.count(\"-\")\n",
        "var9 = x.replace(\"-\",\"\")\n",
        "var10 = x.split()\n",
        "\n",
        "print(var1)\n",
        "print(var2)\n",
        "print(var3)\n",
        "print(var4)\n",
        "print(var5)\n",
        "print(var6)\n",
        "print(var7)\n",
        "print(var8)\n",
        "print(var9)\n",
        "print(var10)\n",
        "\n",
        "\n"
      ],
      "metadata": {
        "colab": {
          "base_uri": "https://localhost:8080/"
        },
        "id": "9YrZXmbDjd8j",
        "outputId": "1b4ce77d-5723-4a89-945f-87c5d4d71670"
      },
      "execution_count": 83,
      "outputs": [
        {
          "output_type": "stream",
          "name": "stdout",
          "text": [
            "8\n",
            "36\n",
            "Hello customer! your credit card number is 1234-5678-9012-6354\n",
            "Hello Customer! Your Credit Card Number Is 1234-5678-9012-6354\n",
            "HELLO CUSTOMER! YOUR CREDIT CARD NUMBER IS 1234-5678-9012-6354\n",
            "hello customer! your credit card number is 1234-5678-9012-6354\n",
            "False\n",
            "3\n",
            "Hello Customer! Your credit card number is 1234567890126354\n",
            "['Hello', 'Customer!', 'Your', 'credit', 'card', 'number', 'is', '1234-5678-9012-6354']\n"
          ]
        }
      ]
    },
    {
      "cell_type": "markdown",
      "source": [
        "## **Task of Strings**"
      ],
      "metadata": {
        "id": "EevwkFRglm1W"
      }
    },
    {
      "cell_type": "code",
      "source": [
        "email = \"midhat.kamal@bankalfalah.com\"\n",
        "path=\"C:/Users/Misbah/Documents/file.txt\"\n",
        "\n",
        "\n",
        "splitTask = path.split(\"/\")\n",
        "print(f\"{splitTask}\")\n",
        "\n",
        "findvalue = email.rfind(\"@\") #rFind used to check last occurence\n",
        "print(f\"The user ID is: {email[0:findvalue]}\")\n",
        "\n",
        "print(f\"The domain name is: {email[findvalue+1::]}\")"
      ],
      "metadata": {
        "colab": {
          "base_uri": "https://localhost:8080/"
        },
        "id": "Fv8ubulilrB-",
        "outputId": "e29cfc63-e095-4266-b237-016085984f2b"
      },
      "execution_count": 82,
      "outputs": [
        {
          "output_type": "stream",
          "name": "stdout",
          "text": [
            "['C:', 'Users', 'Misbah', 'Documents', 'file.txt']\n",
            "The user ID is: midhat.kamal\n",
            "The domain name is: bankalfalah.com\n"
          ]
        }
      ]
    },
    {
      "cell_type": "markdown",
      "source": [
        "## **Validate user input Exercise**"
      ],
      "metadata": {
        "id": "jMJYRLOXoKd7"
      }
    },
    {
      "cell_type": "code",
      "source": [
        "userName = input(\"Please enter the username: \")\n",
        "if len(userName)>12:\n",
        "  print(\"The user name should not be more than 12 characters\")\n",
        "elif not userName.find(\" \")==-1:\n",
        "  print(\"The user name should not contain spaces\")\n",
        "elif not userName.isalpha():\n",
        "  print(\"The user name should not contain digits\")\n",
        "else:\n",
        "  print(\"Correct username\")\n"
      ],
      "metadata": {
        "colab": {
          "base_uri": "https://localhost:8080/"
        },
        "id": "dL_-JpiToNbc",
        "outputId": "7ff4e2dd-e619-48ff-b96b-a745c1fc1290"
      },
      "execution_count": 101,
      "outputs": [
        {
          "output_type": "stream",
          "name": "stdout",
          "text": [
            "Please enter the username: midhat.kamal\n",
            "The user name should not contain digits\n"
          ]
        }
      ]
    },
    {
      "cell_type": "code",
      "source": [
        "#Format Specifiers\n",
        "price1 =3.444\n",
        "price2=-44\n",
        "price3=23.5\n",
        "\n",
        "print(f\"price 1 is ${price1:.1f}\") #round of to 1 decimal place\n",
        "print(f\"price 2 is ${price2:>10}\")\n",
        "print(f\"price 3 is ${price1:}\")\n",
        "print(f\"price 3 is ${price1:.1f}\")\n",
        "print(f\"price 3 is ${price1:.1f}\")\n",
        "print(f\"price 3 is ${price1:.1f}\")"
      ],
      "metadata": {
        "colab": {
          "base_uri": "https://localhost:8080/"
        },
        "id": "Agolajhyt76H",
        "outputId": "783e146c-b688-499b-c221-50cc88efe114"
      },
      "execution_count": 102,
      "outputs": [
        {
          "output_type": "stream",
          "name": "stdout",
          "text": [
            "price 1 is $3.4\n",
            "price 2 is $       -44\n",
            "price 3 is $3.444\n",
            "price 3 is $3.4\n",
            "price 3 is $3.4\n",
            "price 3 is $3.4\n"
          ]
        }
      ]
    },
    {
      "cell_type": "markdown",
      "source": [
        "Exercise"
      ],
      "metadata": {
        "id": "UNK_ePELu_p9"
      }
    },
    {
      "cell_type": "code",
      "source": [
        "productName = \"Bat\" #input(\"Enter the product name: \")\n",
        "quantity = 3 #int(input(\"Enter the quantity: \"))\n",
        "unitPrice = 100\n",
        "priceWithTax = float(quantity*unitPrice*0.08)\n",
        "\n",
        "print(f\"{'Product':<15}{'Price':>10} {'Tax (8%)':>15}\")\n",
        "print(f\"{productName:<15}{unitPrice:>10.2f}{priceWithTax:>15.2f}\")\n",
        "#print(f\"{productName: <10}{quantity: <15} {unitPrice: <10} {priceWithTax: <10}\")\n",
        "\n",
        "\n"
      ],
      "metadata": {
        "colab": {
          "base_uri": "https://localhost:8080/"
        },
        "id": "wCPJL_1ku92c",
        "outputId": "fef03855-45b2-4ee1-bf28-78547d25dc5c"
      },
      "execution_count": 133,
      "outputs": [
        {
          "output_type": "stream",
          "name": "stdout",
          "text": [
            "Product             Price        Tax (8%)\n",
            "Bat                100.00          24.00\n"
          ]
        }
      ]
    },
    {
      "cell_type": "code",
      "source": [
        "\n",
        "#+,-,*,/,**,% Arithmetic\n",
        "#+=,-=,*=,/=,**=,%= Assignment\n",
        "#and,or,not\n",
        "#is,is not\n",
        "#in, not in\n",
        "#==,!=,>,<,<=,>= Comparison\n",
        "\n",
        "\n",
        "#Control flow\n",
        "#Conditional -if\n",
        "#loops while,for,nested\n",
        "#match-case\n"
      ],
      "metadata": {
        "id": "gIFLCTrwytEC"
      },
      "execution_count": null,
      "outputs": []
    },
    {
      "cell_type": "code",
      "source": [
        "#X if condition else Y\n",
        "num = 6;\n",
        "print(\"Greater than 5\") if num>5 else print(\"less than 5\")"
      ],
      "metadata": {
        "colab": {
          "base_uri": "https://localhost:8080/"
        },
        "id": "grE4WAaa4an0",
        "outputId": "a58495a5-eb95-493a-9c4e-ab6755982002"
      },
      "execution_count": 134,
      "outputs": [
        {
          "output_type": "stream",
          "name": "stdout",
          "text": [
            "Greater than 5\n"
          ]
        }
      ]
    },
    {
      "cell_type": "code",
      "source": [
        "#Python compound interest\n",
        "#Major conditions = Principle Amount\n",
        "\n",
        "principle =0\n",
        "\n",
        "while principle <=0:\n",
        "  principle = float(input(\"Enter your principle amount: \"))"
      ],
      "metadata": {
        "id": "RqnCjY4C49CG"
      },
      "execution_count": null,
      "outputs": []
    }
  ]
}