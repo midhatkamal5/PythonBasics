{
  "nbformat": 4,
  "nbformat_minor": 0,
  "metadata": {
    "colab": {
      "provenance": [],
      "authorship_tag": "ABX9TyPhmVCM6F8Mm1lj/f7ybG9b",
      "include_colab_link": true
    },
    "kernelspec": {
      "name": "python3",
      "display_name": "Python 3"
    },
    "language_info": {
      "name": "python"
    }
  },
  "cells": [
    {
      "cell_type": "markdown",
      "metadata": {
        "id": "view-in-github",
        "colab_type": "text"
      },
      "source": [
        "<a href=\"https://colab.research.google.com/github/midhatkamal5/PythonBasics/blob/main/PythonBasics.ipynb\" target=\"_parent\"><img src=\"https://colab.research.google.com/assets/colab-badge.svg\" alt=\"Open In Colab\"/></a>"
      ]
    },
    {
      "cell_type": "code",
      "source": [
        "print(\"Machine Learning\")"
      ],
      "metadata": {
        "colab": {
          "base_uri": "https://localhost:8080/"
        },
        "id": "C6Z1_zJLRydA",
        "outputId": "e1151025-f850-4c9b-fdaf-17fbc2d50209"
      },
      "execution_count": null,
      "outputs": [
        {
          "output_type": "stream",
          "name": "stdout",
          "text": [
            "Machine Learning\n"
          ]
        }
      ]
    },
    {
      "cell_type": "markdown",
      "source": [
        "**Checking Value of X**"
      ],
      "metadata": {
        "id": "K3WyIhdYjM2j"
      }
    },
    {
      "cell_type": "code",
      "execution_count": null,
      "metadata": {
        "colab": {
          "base_uri": "https://localhost:8080/"
        },
        "id": "IIOGyHOnRVEZ",
        "outputId": "5beb5dfa-076f-4c53-db4c-a0030c1493dc"
      },
      "outputs": [
        {
          "output_type": "stream",
          "name": "stdout",
          "text": [
            "x is less than 10\n"
          ]
        }
      ],
      "source": [
        "x = 5\n",
        "if x > 10:\n",
        "  print(\"x is greater than 10\")\n",
        "else:\n",
        "  print(\"x is less than 10\")"
      ]
    },
    {
      "cell_type": "code",
      "source": [
        "name = \"Midhat\""
      ],
      "metadata": {
        "id": "1Cb1iCBCTfqo"
      },
      "execution_count": null,
      "outputs": []
    },
    {
      "cell_type": "code",
      "source": [
        "rate=7\n",
        "name=\"Bat\"\n",
        "price=9.76\n",
        "category='H'\n",
        "isAvailable=True\n",
        "\n",
        "\n",
        "print(type(rate))\n",
        "print(type(name))\n",
        "print(type(price))\n",
        "print(type(category))\n",
        "print(type(isAvailable))"
      ],
      "metadata": {
        "colab": {
          "base_uri": "https://localhost:8080/"
        },
        "id": "gCi0bnMLTnwV",
        "outputId": "1cab395b-ef58-49ea-b18d-dcd7fb71f98a"
      },
      "execution_count": null,
      "outputs": [
        {
          "output_type": "stream",
          "name": "stdout",
          "text": [
            "<class 'int'>\n",
            "<class 'str'>\n",
            "<class 'float'>\n",
            "<class 'str'>\n",
            "<class 'bool'>\n"
          ]
        }
      ]
    },
    {
      "cell_type": "code",
      "source": [
        "print(f\"Product Name: {name} ;Product Price: {price}; Product Rate: {rate}\") #f is used for formatting"
      ],
      "metadata": {
        "colab": {
          "base_uri": "https://localhost:8080/"
        },
        "id": "QiRLnsO6UJT8",
        "outputId": "7544fe2d-7df4-4490-b8df-99d0888b04ed"
      },
      "execution_count": null,
      "outputs": [
        {
          "output_type": "stream",
          "name": "stdout",
          "text": [
            "Product Name: Bat ;Product Price: 9.76; Product Rate: 7\n"
          ]
        }
      ]
    },
    {
      "cell_type": "code",
      "source": [
        "#Type casting -> str()\n",
        "# int()\n",
        "# float()\n",
        "# bool()\n",
        "print(f\"Int Price is: {int(price)}\")\n"
      ],
      "metadata": {
        "colab": {
          "base_uri": "https://localhost:8080/"
        },
        "id": "S4S9ewhRU3Y_",
        "outputId": "8c0d451e-9316-4210-fe07-dd1351f39869"
      },
      "execution_count": null,
      "outputs": [
        {
          "output_type": "stream",
          "name": "stdout",
          "text": [
            "Round of Price is: 9\n"
          ]
        }
      ]
    },
    {
      "cell_type": "code",
      "source": [
        "name = input(\"Enter your name: \")\n",
        "age = int(input(\"Enter your age: \"))\n",
        "\n",
        "age = age + 1\n",
        "print(f\"Hello {name}\")\n",
        "print(f\"You are {age} years old\")\n"
      ],
      "metadata": {
        "colab": {
          "base_uri": "https://localhost:8080/"
        },
        "id": "4M34RMr7Vb7u",
        "outputId": "881d65db-0f56-463f-fd90-e457b0f5afb9"
      },
      "execution_count": null,
      "outputs": [
        {
          "output_type": "stream",
          "name": "stdout",
          "text": [
            "Enter your name: Midhat\n",
            "Enter your age: 25\n",
            "Hello Midhat\n",
            "You are 26 years old\n"
          ]
        }
      ]
    },
    {
      "cell_type": "markdown",
      "source": [
        "## **Rectangle Area Calculation**"
      ],
      "metadata": {
        "id": "Z5wMZJxsjSoS"
      }
    },
    {
      "cell_type": "code",
      "source": [
        "#Rectangle Area Calculation\n",
        "width = float(input(\"Please enter the width: \"))\n",
        "height = float(input(\"Please enter the height: \"))\n",
        "print(f\"The area is: {width*height}\")"
      ],
      "metadata": {
        "colab": {
          "base_uri": "https://localhost:8080/"
        },
        "id": "ysDbGr5UYci0",
        "outputId": "46289bed-3d7b-4e27-8054-3d6025999330"
      },
      "execution_count": null,
      "outputs": [
        {
          "output_type": "stream",
          "name": "stdout",
          "text": [
            "Please enter the width: 5.5\n",
            "Please enter the height: 5.5\n",
            "The area is: 30.25\n"
          ]
        }
      ]
    },
    {
      "cell_type": "markdown",
      "source": [
        "## **Shopping Cart Program**"
      ],
      "metadata": {
        "id": "gfHiakkfjYEi"
      }
    },
    {
      "cell_type": "code",
      "source": [
        "#Shopping Cart Program\n",
        "productName =  \"Bat\"\n",
        "unitPrice = 102.56\n",
        "quantity = int(input(\"Please enter the quantity of Bat: \"))\n",
        "print(f\"Product Name: {productName}\")\n",
        "print(f\"Unit Price: Rs.{unitPrice}\")\n",
        "print(f\"Price: Rs.{quantity*unitPrice}\")"
      ],
      "metadata": {
        "colab": {
          "base_uri": "https://localhost:8080/"
        },
        "id": "tQulxCf2ZDyU",
        "outputId": "2027d3f3-fc88-4a90-c712-7827788926d4"
      },
      "execution_count": null,
      "outputs": [
        {
          "output_type": "stream",
          "name": "stdout",
          "text": [
            "Please enter the quantity of Bat: 5\n",
            "Product Name: Bat\n",
            "Unit Price: Rs.102.56\n",
            "Price: Rs.512.8\n"
          ]
        }
      ]
    },
    {
      "cell_type": "code",
      "source": [
        "#Indexing\n",
        "creditCardNumber = \"1234-5678-9012-6354\"\n",
        "print(creditCardNumber[0])\n",
        "print(creditCardNumber[5:9])\n",
        "print(creditCardNumber[:9])\n",
        "print(creditCardNumber[9:])\n",
        "print(creditCardNumber[::2]) #go from start to end by skipping 2 (step size)\n",
        "\n",
        "#reverse indexing\n",
        "print(creditCardNumber[-1])\n"
      ],
      "metadata": {
        "colab": {
          "base_uri": "https://localhost:8080/"
        },
        "id": "D80dti2sbD4-",
        "outputId": "ae738f54-7980-4705-c5ba-1c4a0329f5e8"
      },
      "execution_count": null,
      "outputs": [
        {
          "output_type": "stream",
          "name": "stdout",
          "text": [
            "1\n",
            "5678\n",
            "1234-5678\n",
            "-9012-6354\n",
            "13-6891-34\n",
            "4\n"
          ]
        }
      ]
    },
    {
      "cell_type": "code",
      "source": [
        "arr = []\n",
        "encryptedStr=\"\";\n",
        "creditCardNumberInput = input(\"Enter the card number: \")\n",
        "tobeencrypted = creditCardNumberInput[0:len(creditCardNumberInput)-4]\n",
        "print(f\"{tobeencrypted}\")\n",
        "for x in range(len(tobeencrypted)):\n",
        "  if tobeencrypted[x] == \"-\":\n",
        "    encryptedStr += '-'\n",
        "  else:\n",
        "    encryptedStr += 'X'\n",
        "lastdigits = creditCardNumberInput[-4:]\n",
        "print(f\"Your credit card last digits are: {encryptedStr}{lastdigits}\")\n"
      ],
      "metadata": {
        "colab": {
          "base_uri": "https://localhost:8080/"
        },
        "id": "l7QPOtspdIIk",
        "outputId": "91decf25-ff99-43da-898c-56aee2ef7ffe"
      },
      "execution_count": null,
      "outputs": [
        {
          "output_type": "stream",
          "name": "stdout",
          "text": [
            "Enter the card number: 1234-5678-9012-6354\n",
            "1234-5678-9012-\n",
            "Your credit card last digits are: XXXX-XXXX-XXXX-6354\n"
          ]
        }
      ]
    },
    {
      "cell_type": "code",
      "source": [],
      "metadata": {
        "id": "5_a7Db32fYAn"
      },
      "execution_count": null,
      "outputs": []
    },
    {
      "cell_type": "markdown",
      "source": [
        "## **String Methods**"
      ],
      "metadata": {
        "id": "xcnESs0kjc5q"
      }
    },
    {
      "cell_type": "code",
      "source": [
        "x = \"Hello Customer! Your credit card number is 1234-5678-9012-6354\"\n",
        "var1 = x.find(\"s\")\n",
        "var2 = x.rfind(\"b\")\n",
        "var3 = x.capitalize()\n",
        "var4 = x.title()\n",
        "var5 = x.upper()\n",
        "var6 = x.lower()\n",
        "var7 = x.isdigit()\n",
        "var8 = x.count(\"-\")\n",
        "var9 = x.replace(\"-\",\"\")\n",
        "var10 = x.split()\n",
        "\n",
        "print(var1)\n",
        "print(var2)\n",
        "print(var3)\n",
        "print(var4)\n",
        "print(var5)\n",
        "print(var6)\n",
        "print(var7)\n",
        "print(var8)\n",
        "print(var9)\n",
        "print(var10)\n",
        "\n",
        "\n"
      ],
      "metadata": {
        "colab": {
          "base_uri": "https://localhost:8080/"
        },
        "id": "9YrZXmbDjd8j",
        "outputId": "1b4ce77d-5723-4a89-945f-87c5d4d71670"
      },
      "execution_count": null,
      "outputs": [
        {
          "output_type": "stream",
          "name": "stdout",
          "text": [
            "8\n",
            "36\n",
            "Hello customer! your credit card number is 1234-5678-9012-6354\n",
            "Hello Customer! Your Credit Card Number Is 1234-5678-9012-6354\n",
            "HELLO CUSTOMER! YOUR CREDIT CARD NUMBER IS 1234-5678-9012-6354\n",
            "hello customer! your credit card number is 1234-5678-9012-6354\n",
            "False\n",
            "3\n",
            "Hello Customer! Your credit card number is 1234567890126354\n",
            "['Hello', 'Customer!', 'Your', 'credit', 'card', 'number', 'is', '1234-5678-9012-6354']\n"
          ]
        }
      ]
    },
    {
      "cell_type": "markdown",
      "source": [
        "## **Task of Strings**"
      ],
      "metadata": {
        "id": "EevwkFRglm1W"
      }
    },
    {
      "cell_type": "code",
      "source": [
        "email = \"midhat.kamal@bankalfalah.com\"\n",
        "path=\"C:/Users/Misbah/Documents/file.txt\"\n",
        "\n",
        "\n",
        "splitTask = path.split(\"/\")\n",
        "print(f\"{splitTask}\")\n",
        "\n",
        "findvalue = email.rfind(\"@\") #rFind used to check last occurence\n",
        "print(f\"The user ID is: {email[0:findvalue]}\")\n",
        "\n",
        "print(f\"The domain name is: {email[findvalue+1::]}\")"
      ],
      "metadata": {
        "colab": {
          "base_uri": "https://localhost:8080/"
        },
        "id": "Fv8ubulilrB-",
        "outputId": "e29cfc63-e095-4266-b237-016085984f2b"
      },
      "execution_count": null,
      "outputs": [
        {
          "output_type": "stream",
          "name": "stdout",
          "text": [
            "['C:', 'Users', 'Misbah', 'Documents', 'file.txt']\n",
            "The user ID is: midhat.kamal\n",
            "The domain name is: bankalfalah.com\n"
          ]
        }
      ]
    },
    {
      "cell_type": "markdown",
      "source": [
        "## **Validate user input Exercise**"
      ],
      "metadata": {
        "id": "jMJYRLOXoKd7"
      }
    },
    {
      "cell_type": "code",
      "source": [
        "userName = input(\"Please enter the username: \")\n",
        "if len(userName)>12:\n",
        "  print(\"The user name should not be more than 12 characters\")\n",
        "elif not userName.find(\" \")==-1:\n",
        "  print(\"The user name should not contain spaces\")\n",
        "elif not userName.isalpha():\n",
        "  print(\"The user name should not contain digits\")\n",
        "else:\n",
        "  print(\"Correct username\")\n"
      ],
      "metadata": {
        "colab": {
          "base_uri": "https://localhost:8080/"
        },
        "id": "dL_-JpiToNbc",
        "outputId": "7ff4e2dd-e619-48ff-b96b-a745c1fc1290"
      },
      "execution_count": null,
      "outputs": [
        {
          "output_type": "stream",
          "name": "stdout",
          "text": [
            "Please enter the username: midhat.kamal\n",
            "The user name should not contain digits\n"
          ]
        }
      ]
    },
    {
      "cell_type": "code",
      "source": [
        "#Format Specifiers\n",
        "price1 =3.444\n",
        "price2=-44\n",
        "price3=23.5\n",
        "\n",
        "print(f\"price 1 is ${price1:.1f}\") #round of to 1 decimal place\n",
        "print(f\"price 2 is ${price2:>10}\")\n",
        "print(f\"price 3 is ${price1:}\")\n",
        "print(f\"price 3 is ${price1:.1f}\")\n",
        "print(f\"price 3 is ${price1:.1f}\")\n",
        "print(f\"price 3 is ${price1:.1f}\")"
      ],
      "metadata": {
        "colab": {
          "base_uri": "https://localhost:8080/"
        },
        "id": "Agolajhyt76H",
        "outputId": "783e146c-b688-499b-c221-50cc88efe114"
      },
      "execution_count": null,
      "outputs": [
        {
          "output_type": "stream",
          "name": "stdout",
          "text": [
            "price 1 is $3.4\n",
            "price 2 is $       -44\n",
            "price 3 is $3.444\n",
            "price 3 is $3.4\n",
            "price 3 is $3.4\n",
            "price 3 is $3.4\n"
          ]
        }
      ]
    },
    {
      "cell_type": "markdown",
      "source": [
        "Exercise"
      ],
      "metadata": {
        "id": "UNK_ePELu_p9"
      }
    },
    {
      "cell_type": "code",
      "source": [
        "productName = \"Bat\" #input(\"Enter the product name: \")\n",
        "quantity = 3 #int(input(\"Enter the quantity: \"))\n",
        "unitPrice = 100\n",
        "priceWithTax = float(quantity*unitPrice*0.08)\n",
        "\n",
        "print(f\"{'Product':<15}{'Price':>10} {'Tax (8%)':>15}\")\n",
        "print(f\"{productName:<15}{unitPrice:>10.2f}{priceWithTax:>15.2f}\")\n",
        "#print(f\"{productName: <10}{quantity: <15} {unitPrice: <10} {priceWithTax: <10}\")\n",
        "\n",
        "\n"
      ],
      "metadata": {
        "colab": {
          "base_uri": "https://localhost:8080/"
        },
        "id": "wCPJL_1ku92c",
        "outputId": "fef03855-45b2-4ee1-bf28-78547d25dc5c"
      },
      "execution_count": null,
      "outputs": [
        {
          "output_type": "stream",
          "name": "stdout",
          "text": [
            "Product             Price        Tax (8%)\n",
            "Bat                100.00          24.00\n"
          ]
        }
      ]
    },
    {
      "cell_type": "code",
      "source": [
        "\n",
        "#+,-,*,/,**,% Arithmetic\n",
        "#+=,-=,*=,/=,**=,%= Assignment\n",
        "#and,or,not\n",
        "#is,is not\n",
        "#in, not in\n",
        "#==,!=,>,<,<=,>= Comparison\n",
        "\n",
        "\n",
        "#Control flow\n",
        "#Conditional -if\n",
        "#loops while,for,nested\n",
        "#match-case\n"
      ],
      "metadata": {
        "id": "gIFLCTrwytEC"
      },
      "execution_count": null,
      "outputs": []
    },
    {
      "cell_type": "code",
      "source": [
        "#X if condition else Y\n",
        "num = 6;\n",
        "print(\"Greater than 5\") if num>5 else print(\"less than 5\")"
      ],
      "metadata": {
        "colab": {
          "base_uri": "https://localhost:8080/"
        },
        "id": "grE4WAaa4an0",
        "outputId": "a58495a5-eb95-493a-9c4e-ab6755982002"
      },
      "execution_count": null,
      "outputs": [
        {
          "output_type": "stream",
          "name": "stdout",
          "text": [
            "Greater than 5\n"
          ]
        }
      ]
    },
    {
      "cell_type": "code",
      "source": [
        "#Python compound interest\n",
        "#Major conditions = Principle Amount\n",
        "\n",
        "principle =0\n",
        "\n",
        "while principle <=0:\n",
        "  principle = float(input(\"Enter your principle amount: \"))"
      ],
      "metadata": {
        "id": "RqnCjY4C49CG"
      },
      "execution_count": null,
      "outputs": []
    },
    {
      "cell_type": "code",
      "source": [
        "for x in range(9): #rows\n",
        "  for y in range(4): #columns\n",
        "    print('*',end=\"/\")\n",
        "  print()"
      ],
      "metadata": {
        "colab": {
          "base_uri": "https://localhost:8080/"
        },
        "id": "lYpTjbJr6z_1",
        "outputId": "95968e1d-ae91-442a-ff96-2a6867e2b74b"
      },
      "execution_count": null,
      "outputs": [
        {
          "output_type": "stream",
          "name": "stdout",
          "text": [
            "*/*/*/*/\n",
            "*/*/*/*/\n",
            "*/*/*/*/\n",
            "*/*/*/*/\n",
            "*/*/*/*/\n",
            "*/*/*/*/\n",
            "*/*/*/*/\n",
            "*/*/*/*/\n",
            "*/*/*/*/\n"
          ]
        }
      ]
    },
    {
      "cell_type": "code",
      "source": [
        "#Match Case\n",
        "\n",
        "day=1\n",
        "match day:\n",
        "  case 1:\n",
        "    print(\"It is Sunday\")"
      ],
      "metadata": {
        "colab": {
          "base_uri": "https://localhost:8080/"
        },
        "id": "0uKjVSTP7TRH",
        "outputId": "d51a081a-67f1-4308-a4a9-8dfa4593943d"
      },
      "execution_count": null,
      "outputs": [
        {
          "output_type": "stream",
          "name": "stdout",
          "text": [
            "It is Sunday\n"
          ]
        }
      ]
    },
    {
      "cell_type": "code",
      "source": [
        "#List [],Ordered, Mutables/Changeable / no duplicates\n",
        "\n",
        "#Sets\n",
        "#Tuples"
      ],
      "metadata": {
        "id": "d82dwoOe71AC"
      },
      "execution_count": null,
      "outputs": []
    },
    {
      "cell_type": "markdown",
      "source": [
        "# **Functions**"
      ],
      "metadata": {
        "id": "sW2dhi_Ta5lz"
      }
    },
    {
      "cell_type": "code",
      "source": [
        "def happy_birthday(name,age):\n",
        "  print(f\"Happy Birthday {name}!\")\n",
        "  print(f\"You are {age} years old\")\n",
        "\n",
        "\n",
        "happy_birthday(\"Midhat\",25)"
      ],
      "metadata": {
        "colab": {
          "base_uri": "https://localhost:8080/"
        },
        "id": "6JoHsqOGa9kG",
        "outputId": "2573b416-324a-4cab-e560-3533f34fdeab"
      },
      "execution_count": 7,
      "outputs": [
        {
          "output_type": "stream",
          "name": "stdout",
          "text": [
            "Happy Birthday Midhat!\n",
            "You are 25 years old\n"
          ]
        }
      ]
    },
    {
      "cell_type": "code",
      "source": [
        "#Positional Arguments\n",
        "#Example 1 - Order change gives diff output\n",
        "def happy_birthday(name,age):\n",
        "  print(f\"Happy Birthday {name}\")\n",
        "  print(f\"You are {age} years old\")\n",
        "\n",
        "\n",
        "\n",
        "happy_birthday(25,\"Midhat\")"
      ],
      "metadata": {
        "colab": {
          "base_uri": "https://localhost:8080/"
        },
        "id": "sjlD-HrXdFe8",
        "outputId": "40046fce-ff6b-4a6f-9dc1-ace4d3c9df33"
      },
      "execution_count": 8,
      "outputs": [
        {
          "output_type": "stream",
          "name": "stdout",
          "text": [
            "Happy Birthday 25\n",
            "You are Midhat years old\n"
          ]
        }
      ]
    },
    {
      "cell_type": "markdown",
      "source": [
        "###Default Arguments"
      ],
      "metadata": {
        "id": "QdUvM7pJfp74"
      }
    },
    {
      "cell_type": "code",
      "source": [
        "#Default Arguments\n",
        "\n",
        "def net_price(price,discount=0,tax=0.05):\n",
        "  return price*(1-discount)*(1+tax)\n",
        "\n",
        "\n",
        "print(net_price(500,0.02,0.01)) #All three values changed\n",
        "print(net_price(500,tax=0.01)) #Only tax is changed, discount remains default"
      ],
      "metadata": {
        "colab": {
          "base_uri": "https://localhost:8080/"
        },
        "id": "wkBte_Byd1pU",
        "outputId": "3cf27e2f-b922-4af6-8683-375168809060"
      },
      "execution_count": 22,
      "outputs": [
        {
          "output_type": "stream",
          "name": "stdout",
          "text": [
            "494.9\n",
            "505.0\n"
          ]
        }
      ]
    },
    {
      "cell_type": "markdown",
      "source": [
        "###Keyword Arguments"
      ],
      "metadata": {
        "id": "0kubslMVpNS3"
      }
    },
    {
      "cell_type": "code",
      "source": [
        "#Keyword Arguments\n",
        "def hello(greeting,title,first,last):\n",
        "  print(f\"{greeting} {title} {first} {last}\")\n",
        "\n",
        "hello(\"Hello\", title=\"Ms.\", last=\"Kamal\", first=\"Midhat\")\n",
        "hello(\"Hello\", last=\"Kamal\", first=\"Midhat\", title=\"Ms.\")"
      ],
      "metadata": {
        "colab": {
          "base_uri": "https://localhost:8080/"
        },
        "id": "1E4GX-ibhmPw",
        "outputId": "21d38a2c-12c5-4176-bb36-04c0014cd7ac"
      },
      "execution_count": 15,
      "outputs": [
        {
          "output_type": "stream",
          "name": "stdout",
          "text": [
            "Hello Ms. Midhat Kamal\n",
            "Hello Ms. Midhat Kamal\n"
          ]
        }
      ]
    },
    {
      "cell_type": "code",
      "source": [
        "def get_phone(country,area,first,last):\n",
        "  return f\"{country}{area}{first}{last}\"\n",
        "\n",
        "phoneNo = get_phone(country=\"+92\",area=332,first=456,last=123)\n",
        "print(phoneNo)"
      ],
      "metadata": {
        "colab": {
          "base_uri": "https://localhost:8080/"
        },
        "id": "MCtov9lunHuQ",
        "outputId": "895b5f0d-d8c6-40bf-f8c5-cca28cac22f8"
      },
      "execution_count": 26,
      "outputs": [
        {
          "output_type": "stream",
          "name": "stdout",
          "text": [
            "+92332456123\n"
          ]
        }
      ]
    },
    {
      "cell_type": "code",
      "source": [
        "#*args and **kwargs\n",
        "def add(a,b):\n",
        "  return a+b\n",
        "\n",
        "\n",
        "\n",
        "add(1,2,3)"
      ],
      "metadata": {
        "colab": {
          "base_uri": "https://localhost:8080/",
          "height": 176
        },
        "id": "yJE6_wNLoi_A",
        "outputId": "c0990645-46fc-4b16-a3e2-cbc609224831"
      },
      "execution_count": 31,
      "outputs": [
        {
          "output_type": "error",
          "ename": "TypeError",
          "evalue": "add() takes 2 positional arguments but 3 were given",
          "traceback": [
            "\u001b[0;31m---------------------------------------------------------------------------\u001b[0m",
            "\u001b[0;31mTypeError\u001b[0m                                 Traceback (most recent call last)",
            "\u001b[0;32m<ipython-input-31-5f4b723a9281>\u001b[0m in \u001b[0;36m<cell line: 7>\u001b[0;34m()\u001b[0m\n\u001b[1;32m      5\u001b[0m \u001b[0;34m\u001b[0m\u001b[0m\n\u001b[1;32m      6\u001b[0m \u001b[0;34m\u001b[0m\u001b[0m\n\u001b[0;32m----> 7\u001b[0;31m \u001b[0madd\u001b[0m\u001b[0;34m(\u001b[0m\u001b[0;36m1\u001b[0m\u001b[0;34m,\u001b[0m\u001b[0;36m2\u001b[0m\u001b[0;34m,\u001b[0m\u001b[0;36m3\u001b[0m\u001b[0;34m)\u001b[0m\u001b[0;34m\u001b[0m\u001b[0;34m\u001b[0m\u001b[0m\n\u001b[0m",
            "\u001b[0;31mTypeError\u001b[0m: add() takes 2 positional arguments but 3 were given"
          ]
        }
      ]
    },
    {
      "cell_type": "markdown",
      "source": [
        "###Arbitrary Arguments"
      ],
      "metadata": {
        "id": "1EzgyosOo_HZ"
      }
    },
    {
      "cell_type": "code",
      "source": [
        "#*args and **kwargs\n",
        "#*args handles the variable number of positional arguments as a tuple [dont have key]\n",
        "#*kwargs handles the variable number of keyword arguments as a dictionary\n",
        "#The * before any argument makes it arbitrary\n",
        "#The ** before any argument makes it kwargs\n",
        "\n",
        "\n",
        "def add(*args):\n",
        "  print(type(args))\n",
        "  print(args)\n",
        "\n",
        "\n",
        "add(1,2,3)\n",
        "add([1,2,3])\n",
        "\n",
        "\n",
        "def display_name(*args):\n",
        "  for arg in args:\n",
        "    print(arg,end=\" \")\n",
        "\n",
        "\n",
        "display_name(\"Ms.\",\"Midhat\",\"Kamal\")\n",
        "\n"
      ],
      "metadata": {
        "colab": {
          "base_uri": "https://localhost:8080/"
        },
        "id": "akf6wf5md4Gq",
        "outputId": "21be972b-9540-4efd-e3e1-dfa39d369e6d"
      },
      "execution_count": 39,
      "outputs": [
        {
          "output_type": "stream",
          "name": "stdout",
          "text": [
            "<class 'tuple'>\n",
            "(1, 2, 3)\n",
            "<class 'tuple'>\n",
            "([1, 2, 3],)\n",
            "Ms. Midhat Kamal "
          ]
        }
      ]
    },
    {
      "cell_type": "code",
      "source": [
        "#*args and **kwargs\n",
        "#*args handles the variable number of positional arguments as a tuple [dont have key]\n",
        "#*kwargs handles the variable number of keyword arguments as a dictionary\n",
        "#The * before any argument makes it arbitrary\n",
        "#The ** before any argument makes it kwargs\n",
        "\n",
        "#PROBLEM\n",
        "def print_address(**args):\n",
        "  print(type(args))\n",
        "\n",
        "print_address(street=\"C-5\",city=\"Karachi\",province=\"Sindh\")\n",
        "\n",
        "\n",
        "\n",
        "#SOLUTION\n",
        "def print_addressNew(**args):\n",
        "  for key in args.keys():\n",
        "    print(f\"{key}\")\n",
        "\n",
        "\n",
        "print_addressNew(street=\"C-5\",city=\"Karachi\",province=\"Sindh\")\n"
      ],
      "metadata": {
        "colab": {
          "base_uri": "https://localhost:8080/"
        },
        "id": "Fwy63L99pbpp",
        "outputId": "f4e268ed-167a-438d-cfb9-c71560e88b62"
      },
      "execution_count": 40,
      "outputs": [
        {
          "output_type": "stream",
          "name": "stdout",
          "text": [
            "<class 'dict'>\n",
            "street\n",
            "city\n",
            "province\n"
          ]
        }
      ]
    }
  ]
}