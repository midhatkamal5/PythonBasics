{
  "nbformat": 4,
  "nbformat_minor": 0,
  "metadata": {
    "colab": {
      "provenance": [],
      "authorship_tag": "ABX9TyOH6vr2zGs5cxRYFc+N8DQ4",
      "include_colab_link": true
    },
    "kernelspec": {
      "name": "python3",
      "display_name": "Python 3"
    },
    "language_info": {
      "name": "python"
    }
  },
  "cells": [
    {
      "cell_type": "markdown",
      "metadata": {
        "id": "view-in-github",
        "colab_type": "text"
      },
      "source": [
        "<a href=\"https://colab.research.google.com/github/midhatkamal5/PythonBasics/blob/main/PythonBasics.ipynb\" target=\"_parent\"><img src=\"https://colab.research.google.com/assets/colab-badge.svg\" alt=\"Open In Colab\"/></a>"
      ]
    },
    {
      "cell_type": "code",
      "source": [
        "print(\"Machine Learning\")"
      ],
      "metadata": {
        "colab": {
          "base_uri": "https://localhost:8080/"
        },
        "id": "C6Z1_zJLRydA",
        "outputId": "e1151025-f850-4c9b-fdaf-17fbc2d50209"
      },
      "execution_count": null,
      "outputs": [
        {
          "output_type": "stream",
          "name": "stdout",
          "text": [
            "Machine Learning\n"
          ]
        }
      ]
    },
    {
      "cell_type": "markdown",
      "source": [
        "**Checking Value of X**"
      ],
      "metadata": {
        "id": "K3WyIhdYjM2j"
      }
    },
    {
      "cell_type": "code",
      "execution_count": null,
      "metadata": {
        "colab": {
          "base_uri": "https://localhost:8080/"
        },
        "id": "IIOGyHOnRVEZ",
        "outputId": "5beb5dfa-076f-4c53-db4c-a0030c1493dc"
      },
      "outputs": [
        {
          "output_type": "stream",
          "name": "stdout",
          "text": [
            "x is less than 10\n"
          ]
        }
      ],
      "source": [
        "x = 5\n",
        "if x > 10:\n",
        "  print(\"x is greater than 10\")\n",
        "else:\n",
        "  print(\"x is less than 10\")"
      ]
    },
    {
      "cell_type": "code",
      "source": [
        "name = \"Midhat\""
      ],
      "metadata": {
        "id": "1Cb1iCBCTfqo"
      },
      "execution_count": null,
      "outputs": []
    },
    {
      "cell_type": "code",
      "source": [
        "rate=7\n",
        "name=\"Bat\"\n",
        "price=9.76\n",
        "category='H'\n",
        "isAvailable=True\n",
        "\n",
        "\n",
        "print(type(rate))\n",
        "print(type(name))\n",
        "print(type(price))\n",
        "print(type(category))\n",
        "print(type(isAvailable))"
      ],
      "metadata": {
        "colab": {
          "base_uri": "https://localhost:8080/"
        },
        "id": "gCi0bnMLTnwV",
        "outputId": "1cab395b-ef58-49ea-b18d-dcd7fb71f98a"
      },
      "execution_count": null,
      "outputs": [
        {
          "output_type": "stream",
          "name": "stdout",
          "text": [
            "<class 'int'>\n",
            "<class 'str'>\n",
            "<class 'float'>\n",
            "<class 'str'>\n",
            "<class 'bool'>\n"
          ]
        }
      ]
    },
    {
      "cell_type": "code",
      "source": [
        "print(f\"Product Name: {name} ;Product Price: {price}; Product Rate: {rate}\") #f is used for formatting"
      ],
      "metadata": {
        "colab": {
          "base_uri": "https://localhost:8080/"
        },
        "id": "QiRLnsO6UJT8",
        "outputId": "7544fe2d-7df4-4490-b8df-99d0888b04ed"
      },
      "execution_count": null,
      "outputs": [
        {
          "output_type": "stream",
          "name": "stdout",
          "text": [
            "Product Name: Bat ;Product Price: 9.76; Product Rate: 7\n"
          ]
        }
      ]
    },
    {
      "cell_type": "code",
      "source": [
        "#Type casting -> str()\n",
        "# int()\n",
        "# float()\n",
        "# bool()\n",
        "print(f\"Int Price is: {int(price)}\")\n"
      ],
      "metadata": {
        "colab": {
          "base_uri": "https://localhost:8080/"
        },
        "id": "S4S9ewhRU3Y_",
        "outputId": "8c0d451e-9316-4210-fe07-dd1351f39869"
      },
      "execution_count": null,
      "outputs": [
        {
          "output_type": "stream",
          "name": "stdout",
          "text": [
            "Round of Price is: 9\n"
          ]
        }
      ]
    },
    {
      "cell_type": "code",
      "source": [
        "name = input(\"Enter your name: \")\n",
        "age = int(input(\"Enter your age: \"))\n",
        "\n",
        "age = age + 1\n",
        "print(f\"Hello {name}\")\n",
        "print(f\"You are {age} years old\")\n"
      ],
      "metadata": {
        "colab": {
          "base_uri": "https://localhost:8080/"
        },
        "id": "4M34RMr7Vb7u",
        "outputId": "881d65db-0f56-463f-fd90-e457b0f5afb9"
      },
      "execution_count": null,
      "outputs": [
        {
          "output_type": "stream",
          "name": "stdout",
          "text": [
            "Enter your name: Midhat\n",
            "Enter your age: 25\n",
            "Hello Midhat\n",
            "You are 26 years old\n"
          ]
        }
      ]
    },
    {
      "cell_type": "markdown",
      "source": [
        "## **Rectangle Area Calculation**"
      ],
      "metadata": {
        "id": "Z5wMZJxsjSoS"
      }
    },
    {
      "cell_type": "code",
      "source": [
        "#Rectangle Area Calculation\n",
        "width = float(input(\"Please enter the width: \"))\n",
        "height = float(input(\"Please enter the height: \"))\n",
        "print(f\"The area is: {width*height}\")"
      ],
      "metadata": {
        "colab": {
          "base_uri": "https://localhost:8080/"
        },
        "id": "ysDbGr5UYci0",
        "outputId": "46289bed-3d7b-4e27-8054-3d6025999330"
      },
      "execution_count": null,
      "outputs": [
        {
          "output_type": "stream",
          "name": "stdout",
          "text": [
            "Please enter the width: 5.5\n",
            "Please enter the height: 5.5\n",
            "The area is: 30.25\n"
          ]
        }
      ]
    },
    {
      "cell_type": "markdown",
      "source": [
        "## **Shopping Cart Program**"
      ],
      "metadata": {
        "id": "gfHiakkfjYEi"
      }
    },
    {
      "cell_type": "code",
      "source": [
        "#Shopping Cart Program\n",
        "productName =  \"Bat\"\n",
        "unitPrice = 102.56\n",
        "quantity = int(input(\"Please enter the quantity of Bat: \"))\n",
        "print(f\"Product Name: {productName}\")\n",
        "print(f\"Unit Price: Rs.{unitPrice}\")\n",
        "print(f\"Price: Rs.{quantity*unitPrice}\")"
      ],
      "metadata": {
        "colab": {
          "base_uri": "https://localhost:8080/"
        },
        "id": "tQulxCf2ZDyU",
        "outputId": "2027d3f3-fc88-4a90-c712-7827788926d4"
      },
      "execution_count": null,
      "outputs": [
        {
          "output_type": "stream",
          "name": "stdout",
          "text": [
            "Please enter the quantity of Bat: 5\n",
            "Product Name: Bat\n",
            "Unit Price: Rs.102.56\n",
            "Price: Rs.512.8\n"
          ]
        }
      ]
    },
    {
      "cell_type": "code",
      "source": [
        "#Indexing\n",
        "creditCardNumber = \"1234-5678-9012-6354\"\n",
        "print(creditCardNumber[0])\n",
        "print(creditCardNumber[5:9])\n",
        "print(creditCardNumber[:9])\n",
        "print(creditCardNumber[9:])\n",
        "print(creditCardNumber[::2]) #go from start to end by skipping 2 (step size)\n",
        "\n",
        "#reverse indexing\n",
        "print(creditCardNumber[-1])\n"
      ],
      "metadata": {
        "colab": {
          "base_uri": "https://localhost:8080/"
        },
        "id": "D80dti2sbD4-",
        "outputId": "ae738f54-7980-4705-c5ba-1c4a0329f5e8"
      },
      "execution_count": null,
      "outputs": [
        {
          "output_type": "stream",
          "name": "stdout",
          "text": [
            "1\n",
            "5678\n",
            "1234-5678\n",
            "-9012-6354\n",
            "13-6891-34\n",
            "4\n"
          ]
        }
      ]
    },
    {
      "cell_type": "code",
      "source": [
        "arr = []\n",
        "encryptedStr=\"\";\n",
        "creditCardNumberInput = input(\"Enter the card number: \")\n",
        "tobeencrypted = creditCardNumberInput[0:len(creditCardNumberInput)-4]\n",
        "print(f\"{tobeencrypted}\")\n",
        "for x in range(len(tobeencrypted)):\n",
        "  if tobeencrypted[x] == \"-\":\n",
        "    encryptedStr += '-'\n",
        "  else:\n",
        "    encryptedStr += 'X'\n",
        "lastdigits = creditCardNumberInput[-4:]\n",
        "print(f\"Your credit card last digits are: {encryptedStr}{lastdigits}\")\n"
      ],
      "metadata": {
        "colab": {
          "base_uri": "https://localhost:8080/"
        },
        "id": "l7QPOtspdIIk",
        "outputId": "91decf25-ff99-43da-898c-56aee2ef7ffe"
      },
      "execution_count": null,
      "outputs": [
        {
          "output_type": "stream",
          "name": "stdout",
          "text": [
            "Enter the card number: 1234-5678-9012-6354\n",
            "1234-5678-9012-\n",
            "Your credit card last digits are: XXXX-XXXX-XXXX-6354\n"
          ]
        }
      ]
    },
    {
      "cell_type": "code",
      "source": [],
      "metadata": {
        "id": "5_a7Db32fYAn"
      },
      "execution_count": null,
      "outputs": []
    },
    {
      "cell_type": "markdown",
      "source": [
        "## **String Methods**"
      ],
      "metadata": {
        "id": "xcnESs0kjc5q"
      }
    },
    {
      "cell_type": "code",
      "source": [
        "x = \"Hello Customer! Your credit card number is 1234-5678-9012-6354\"\n",
        "var1 = x.find(\"s\")\n",
        "var2 = x.rfind(\"b\")\n",
        "var3 = x.capitalize()\n",
        "var4 = x.title()\n",
        "var5 = x.upper()\n",
        "var6 = x.lower()\n",
        "var7 = x.isdigit()\n",
        "var8 = x.count(\"-\")\n",
        "var9 = x.replace(\"-\",\"\")\n",
        "var10 = x.split()\n",
        "\n",
        "print(var1)\n",
        "print(var2)\n",
        "print(var3)\n",
        "print(var4)\n",
        "print(var5)\n",
        "print(var6)\n",
        "print(var7)\n",
        "print(var8)\n",
        "print(var9)\n",
        "print(var10)\n",
        "\n",
        "\n"
      ],
      "metadata": {
        "colab": {
          "base_uri": "https://localhost:8080/"
        },
        "id": "9YrZXmbDjd8j",
        "outputId": "1b4ce77d-5723-4a89-945f-87c5d4d71670"
      },
      "execution_count": null,
      "outputs": [
        {
          "output_type": "stream",
          "name": "stdout",
          "text": [
            "8\n",
            "36\n",
            "Hello customer! your credit card number is 1234-5678-9012-6354\n",
            "Hello Customer! Your Credit Card Number Is 1234-5678-9012-6354\n",
            "HELLO CUSTOMER! YOUR CREDIT CARD NUMBER IS 1234-5678-9012-6354\n",
            "hello customer! your credit card number is 1234-5678-9012-6354\n",
            "False\n",
            "3\n",
            "Hello Customer! Your credit card number is 1234567890126354\n",
            "['Hello', 'Customer!', 'Your', 'credit', 'card', 'number', 'is', '1234-5678-9012-6354']\n"
          ]
        }
      ]
    },
    {
      "cell_type": "markdown",
      "source": [
        "## **Task of Strings**"
      ],
      "metadata": {
        "id": "EevwkFRglm1W"
      }
    },
    {
      "cell_type": "code",
      "source": [
        "email = \"midhat.kamal@bankalfalah.com\"\n",
        "path=\"C:/Users/Misbah/Documents/file.txt\"\n",
        "\n",
        "\n",
        "splitTask = path.split(\"/\")\n",
        "print(f\"{splitTask}\")\n",
        "\n",
        "findvalue = email.rfind(\"@\") #rFind used to check last occurence\n",
        "print(f\"The user ID is: {email[0:findvalue]}\")\n",
        "\n",
        "print(f\"The domain name is: {email[findvalue+1::]}\")"
      ],
      "metadata": {
        "colab": {
          "base_uri": "https://localhost:8080/"
        },
        "id": "Fv8ubulilrB-",
        "outputId": "e29cfc63-e095-4266-b237-016085984f2b"
      },
      "execution_count": null,
      "outputs": [
        {
          "output_type": "stream",
          "name": "stdout",
          "text": [
            "['C:', 'Users', 'Misbah', 'Documents', 'file.txt']\n",
            "The user ID is: midhat.kamal\n",
            "The domain name is: bankalfalah.com\n"
          ]
        }
      ]
    },
    {
      "cell_type": "markdown",
      "source": [
        "## **Validate user input Exercise**"
      ],
      "metadata": {
        "id": "jMJYRLOXoKd7"
      }
    },
    {
      "cell_type": "code",
      "source": [
        "userName = input(\"Please enter the username: \")\n",
        "if len(userName)>12:\n",
        "  print(\"The user name should not be more than 12 characters\")\n",
        "elif not userName.find(\" \")==-1:\n",
        "  print(\"The user name should not contain spaces\")\n",
        "elif not userName.isalpha():\n",
        "  print(\"The user name should not contain digits\")\n",
        "else:\n",
        "  print(\"Correct username\")\n"
      ],
      "metadata": {
        "colab": {
          "base_uri": "https://localhost:8080/"
        },
        "id": "dL_-JpiToNbc",
        "outputId": "7ff4e2dd-e619-48ff-b96b-a745c1fc1290"
      },
      "execution_count": null,
      "outputs": [
        {
          "output_type": "stream",
          "name": "stdout",
          "text": [
            "Please enter the username: midhat.kamal\n",
            "The user name should not contain digits\n"
          ]
        }
      ]
    },
    {
      "cell_type": "code",
      "source": [
        "#Format Specifiers\n",
        "price1 =3.444\n",
        "price2=-44\n",
        "price3=23.5\n",
        "\n",
        "print(f\"price 1 is ${price1:.1f}\") #round of to 1 decimal place\n",
        "print(f\"price 2 is ${price2:>10}\")\n",
        "print(f\"price 3 is ${price1:}\")\n",
        "print(f\"price 3 is ${price1:.1f}\")\n",
        "print(f\"price 3 is ${price1:.1f}\")\n",
        "print(f\"price 3 is ${price1:.1f}\")"
      ],
      "metadata": {
        "colab": {
          "base_uri": "https://localhost:8080/"
        },
        "id": "Agolajhyt76H",
        "outputId": "783e146c-b688-499b-c221-50cc88efe114"
      },
      "execution_count": null,
      "outputs": [
        {
          "output_type": "stream",
          "name": "stdout",
          "text": [
            "price 1 is $3.4\n",
            "price 2 is $       -44\n",
            "price 3 is $3.444\n",
            "price 3 is $3.4\n",
            "price 3 is $3.4\n",
            "price 3 is $3.4\n"
          ]
        }
      ]
    },
    {
      "cell_type": "markdown",
      "source": [
        "Exercise"
      ],
      "metadata": {
        "id": "UNK_ePELu_p9"
      }
    },
    {
      "cell_type": "code",
      "source": [
        "productName = \"Bat\" #input(\"Enter the product name: \")\n",
        "quantity = 3 #int(input(\"Enter the quantity: \"))\n",
        "unitPrice = 100\n",
        "priceWithTax = float(quantity*unitPrice*0.08)\n",
        "\n",
        "print(f\"{'Product':<15}{'Price':>10} {'Tax (8%)':>15}\")\n",
        "print(f\"{productName:<15}{unitPrice:>10.2f}{priceWithTax:>15.2f}\")\n",
        "#print(f\"{productName: <10}{quantity: <15} {unitPrice: <10} {priceWithTax: <10}\")\n",
        "\n",
        "\n"
      ],
      "metadata": {
        "colab": {
          "base_uri": "https://localhost:8080/"
        },
        "id": "wCPJL_1ku92c",
        "outputId": "fef03855-45b2-4ee1-bf28-78547d25dc5c"
      },
      "execution_count": null,
      "outputs": [
        {
          "output_type": "stream",
          "name": "stdout",
          "text": [
            "Product             Price        Tax (8%)\n",
            "Bat                100.00          24.00\n"
          ]
        }
      ]
    },
    {
      "cell_type": "code",
      "source": [
        "\n",
        "#+,-,*,/,**,% Arithmetic\n",
        "#+=,-=,*=,/=,**=,%= Assignment\n",
        "#and,or,not\n",
        "#is,is not\n",
        "#in, not in\n",
        "#==,!=,>,<,<=,>= Comparison\n",
        "\n",
        "\n",
        "#Control flow\n",
        "#Conditional -if\n",
        "#loops while,for,nested\n",
        "#match-case\n"
      ],
      "metadata": {
        "id": "gIFLCTrwytEC"
      },
      "execution_count": null,
      "outputs": []
    },
    {
      "cell_type": "code",
      "source": [
        "#X if condition else Y\n",
        "num = 6;\n",
        "print(\"Greater than 5\") if num>5 else print(\"less than 5\")"
      ],
      "metadata": {
        "colab": {
          "base_uri": "https://localhost:8080/"
        },
        "id": "grE4WAaa4an0",
        "outputId": "a58495a5-eb95-493a-9c4e-ab6755982002"
      },
      "execution_count": null,
      "outputs": [
        {
          "output_type": "stream",
          "name": "stdout",
          "text": [
            "Greater than 5\n"
          ]
        }
      ]
    },
    {
      "cell_type": "code",
      "source": [
        "#Python compound interest\n",
        "#Major conditions = Principle Amount\n",
        "\n",
        "principle =0\n",
        "\n",
        "while principle <=0:\n",
        "  principle = float(input(\"Enter your principle amount: \"))"
      ],
      "metadata": {
        "id": "RqnCjY4C49CG"
      },
      "execution_count": null,
      "outputs": []
    },
    {
      "cell_type": "code",
      "source": [
        "for x in range(9): #rows\n",
        "  for y in range(4): #columns\n",
        "    print('*',end=\"/\")\n",
        "  print()"
      ],
      "metadata": {
        "colab": {
          "base_uri": "https://localhost:8080/"
        },
        "id": "lYpTjbJr6z_1",
        "outputId": "95968e1d-ae91-442a-ff96-2a6867e2b74b"
      },
      "execution_count": null,
      "outputs": [
        {
          "output_type": "stream",
          "name": "stdout",
          "text": [
            "*/*/*/*/\n",
            "*/*/*/*/\n",
            "*/*/*/*/\n",
            "*/*/*/*/\n",
            "*/*/*/*/\n",
            "*/*/*/*/\n",
            "*/*/*/*/\n",
            "*/*/*/*/\n",
            "*/*/*/*/\n"
          ]
        }
      ]
    },
    {
      "cell_type": "code",
      "source": [
        "#Match Case\n",
        "\n",
        "day=1\n",
        "match day:\n",
        "  case 1:\n",
        "    print(\"It is Sunday\")"
      ],
      "metadata": {
        "colab": {
          "base_uri": "https://localhost:8080/"
        },
        "id": "0uKjVSTP7TRH",
        "outputId": "d51a081a-67f1-4308-a4a9-8dfa4593943d"
      },
      "execution_count": null,
      "outputs": [
        {
          "output_type": "stream",
          "name": "stdout",
          "text": [
            "It is Sunday\n"
          ]
        }
      ]
    },
    {
      "cell_type": "code",
      "source": [
        "#List [],Ordered, Mutables/Changeable / no duplicates\n",
        "#Sets\n",
        "#Tuples\n",
        "#Dictionary"
      ],
      "metadata": {
        "id": "d82dwoOe71AC"
      },
      "execution_count": null,
      "outputs": []
    },
    {
      "cell_type": "markdown",
      "source": [
        "# **Functions**"
      ],
      "metadata": {
        "id": "sW2dhi_Ta5lz"
      }
    },
    {
      "cell_type": "code",
      "source": [
        "def happy_birthday(name,age):\n",
        "  print(f\"Happy Birthday {name}!\")\n",
        "  print(f\"You are {age} years old\")\n",
        "\n",
        "\n",
        "happy_birthday(\"Midhat\",25)"
      ],
      "metadata": {
        "colab": {
          "base_uri": "https://localhost:8080/"
        },
        "id": "6JoHsqOGa9kG",
        "outputId": "2573b416-324a-4cab-e560-3533f34fdeab"
      },
      "execution_count": 7,
      "outputs": [
        {
          "output_type": "stream",
          "name": "stdout",
          "text": [
            "Happy Birthday Midhat!\n",
            "You are 25 years old\n"
          ]
        }
      ]
    },
    {
      "cell_type": "code",
      "source": [
        "#Positional Arguments\n",
        "#Example 1 - Order change gives diff output\n",
        "def happy_birthday(name,age):\n",
        "  print(f\"Happy Birthday {name}\")\n",
        "  print(f\"You are {age} years old\")\n",
        "\n",
        "\n",
        "\n",
        "happy_birthday(25,\"Midhat\")"
      ],
      "metadata": {
        "colab": {
          "base_uri": "https://localhost:8080/"
        },
        "id": "sjlD-HrXdFe8",
        "outputId": "40046fce-ff6b-4a6f-9dc1-ace4d3c9df33"
      },
      "execution_count": 8,
      "outputs": [
        {
          "output_type": "stream",
          "name": "stdout",
          "text": [
            "Happy Birthday 25\n",
            "You are Midhat years old\n"
          ]
        }
      ]
    },
    {
      "cell_type": "markdown",
      "source": [
        "###Default Arguments"
      ],
      "metadata": {
        "id": "QdUvM7pJfp74"
      }
    },
    {
      "cell_type": "code",
      "source": [
        "#Default Arguments\n",
        "\n",
        "def net_price(price,discount=0,tax=0.05):\n",
        "  return price*(1-discount)*(1+tax)\n",
        "\n",
        "\n",
        "print(net_price(500,0.02,0.01)) #All three values changed\n",
        "print(net_price(500,tax=0.01)) #Only tax is changed, discount remains default"
      ],
      "metadata": {
        "colab": {
          "base_uri": "https://localhost:8080/"
        },
        "id": "wkBte_Byd1pU",
        "outputId": "3cf27e2f-b922-4af6-8683-375168809060"
      },
      "execution_count": 22,
      "outputs": [
        {
          "output_type": "stream",
          "name": "stdout",
          "text": [
            "494.9\n",
            "505.0\n"
          ]
        }
      ]
    },
    {
      "cell_type": "markdown",
      "source": [
        "###Keyword Arguments"
      ],
      "metadata": {
        "id": "0kubslMVpNS3"
      }
    },
    {
      "cell_type": "code",
      "source": [
        "#Keyword Arguments\n",
        "def hello(greeting,title,first,last):\n",
        "  print(f\"{greeting} {title} {first} {last}\")\n",
        "\n",
        "hello(\"Hello\", title=\"Ms.\", last=\"Kamal\", first=\"Midhat\")\n",
        "hello(\"Hello\", last=\"Kamal\", first=\"Midhat\", title=\"Ms.\")"
      ],
      "metadata": {
        "colab": {
          "base_uri": "https://localhost:8080/"
        },
        "id": "1E4GX-ibhmPw",
        "outputId": "21d38a2c-12c5-4176-bb36-04c0014cd7ac"
      },
      "execution_count": 15,
      "outputs": [
        {
          "output_type": "stream",
          "name": "stdout",
          "text": [
            "Hello Ms. Midhat Kamal\n",
            "Hello Ms. Midhat Kamal\n"
          ]
        }
      ]
    },
    {
      "cell_type": "code",
      "source": [
        "def get_phone(country,area,first,last):\n",
        "  return f\"{country}{area}{first}{last}\"\n",
        "\n",
        "phoneNo = get_phone(country=\"+92\",area=332,first=456,last=123)\n",
        "print(phoneNo)"
      ],
      "metadata": {
        "colab": {
          "base_uri": "https://localhost:8080/"
        },
        "id": "MCtov9lunHuQ",
        "outputId": "895b5f0d-d8c6-40bf-f8c5-cca28cac22f8"
      },
      "execution_count": 26,
      "outputs": [
        {
          "output_type": "stream",
          "name": "stdout",
          "text": [
            "+92332456123\n"
          ]
        }
      ]
    },
    {
      "cell_type": "code",
      "source": [
        "#*args and **kwargs\n",
        "def add(a,b):\n",
        "  return a+b\n",
        "\n",
        "\n",
        "\n",
        "add(1,2,3)"
      ],
      "metadata": {
        "colab": {
          "base_uri": "https://localhost:8080/",
          "height": 176
        },
        "id": "yJE6_wNLoi_A",
        "outputId": "c0990645-46fc-4b16-a3e2-cbc609224831"
      },
      "execution_count": 31,
      "outputs": [
        {
          "output_type": "error",
          "ename": "TypeError",
          "evalue": "add() takes 2 positional arguments but 3 were given",
          "traceback": [
            "\u001b[0;31m---------------------------------------------------------------------------\u001b[0m",
            "\u001b[0;31mTypeError\u001b[0m                                 Traceback (most recent call last)",
            "\u001b[0;32m<ipython-input-31-5f4b723a9281>\u001b[0m in \u001b[0;36m<cell line: 7>\u001b[0;34m()\u001b[0m\n\u001b[1;32m      5\u001b[0m \u001b[0;34m\u001b[0m\u001b[0m\n\u001b[1;32m      6\u001b[0m \u001b[0;34m\u001b[0m\u001b[0m\n\u001b[0;32m----> 7\u001b[0;31m \u001b[0madd\u001b[0m\u001b[0;34m(\u001b[0m\u001b[0;36m1\u001b[0m\u001b[0;34m,\u001b[0m\u001b[0;36m2\u001b[0m\u001b[0;34m,\u001b[0m\u001b[0;36m3\u001b[0m\u001b[0;34m)\u001b[0m\u001b[0;34m\u001b[0m\u001b[0;34m\u001b[0m\u001b[0m\n\u001b[0m",
            "\u001b[0;31mTypeError\u001b[0m: add() takes 2 positional arguments but 3 were given"
          ]
        }
      ]
    },
    {
      "cell_type": "markdown",
      "source": [
        "###Arbitrary Arguments"
      ],
      "metadata": {
        "id": "1EzgyosOo_HZ"
      }
    },
    {
      "cell_type": "code",
      "source": [
        "#*args and **kwargs\n",
        "#*args handles the variable number of positional arguments as a tuple [dont have key]\n",
        "#*kwargs handles the variable number of keyword arguments as a dictionary\n",
        "#The * before any argument makes it arbitrary\n",
        "#The ** before any argument makes it kwargs\n",
        "\n",
        "\n",
        "def add(*args):\n",
        "  print(type(args))\n",
        "  print(args)\n",
        "\n",
        "\n",
        "add(1,2,3)\n",
        "add([1,2,3])\n",
        "\n",
        "\n",
        "def display_name(*args):\n",
        "  for arg in args:\n",
        "    print(arg,end=\" \")\n",
        "\n",
        "\n",
        "display_name(\"Ms.\",\"Midhat\",\"Kamal\")\n",
        "\n"
      ],
      "metadata": {
        "colab": {
          "base_uri": "https://localhost:8080/"
        },
        "id": "akf6wf5md4Gq",
        "outputId": "21be972b-9540-4efd-e3e1-dfa39d369e6d"
      },
      "execution_count": 39,
      "outputs": [
        {
          "output_type": "stream",
          "name": "stdout",
          "text": [
            "<class 'tuple'>\n",
            "(1, 2, 3)\n",
            "<class 'tuple'>\n",
            "([1, 2, 3],)\n",
            "Ms. Midhat Kamal "
          ]
        }
      ]
    },
    {
      "cell_type": "markdown",
      "source": [
        "## args and kwargs"
      ],
      "metadata": {
        "id": "4xYap1Llr0T1"
      }
    },
    {
      "cell_type": "code",
      "source": [
        "#*args and **kwargs\n",
        "#*args handles the variable number of positional arguments as a tuple [dont have key]\n",
        "#*kwargs handles the variable number of keyword arguments as a dictionary\n",
        "#The * before any argument makes it arbitrary\n",
        "#The ** before any argument makes it kwargs\n",
        "\n",
        "#PROBLEM\n",
        "def print_address(**x):\n",
        "  print(type(x))\n",
        "  print()\n",
        "\n",
        "print_address(street=\"C-5\",city=\"Karachi\",province=\"Sindh\")\n",
        "\n",
        "\n",
        "print(\"Solution to above problem using **kwargs: \")\n",
        "#SOLUTION\n",
        "def print_addressNew(**x):\n",
        "  for key in x.keys():  #for values in x.values():   #for item in x.items():\n",
        "    print(f\"{key}\")\n",
        "\n",
        "\n",
        "print_addressNew(street=\"C-5\",city=\"Karachi\",province=\"Sindh\")\n"
      ],
      "metadata": {
        "colab": {
          "base_uri": "https://localhost:8080/"
        },
        "id": "Fwy63L99pbpp",
        "outputId": "3ecec8c9-bb02-4951-9c2d-4bb9424ef879"
      },
      "execution_count": 43,
      "outputs": [
        {
          "output_type": "stream",
          "name": "stdout",
          "text": [
            "<class 'dict'>\n",
            "\n",
            "Solution to above problem using **kwargs: \n",
            "street\n",
            "city\n",
            "province\n"
          ]
        }
      ]
    },
    {
      "cell_type": "code",
      "source": [
        "def shipping_label(*args,**kwargs):\n",
        "  print(\"problem using args\")\n",
        "  for arg in args:\n",
        "    print(arg,end=\"\")\n",
        "\n",
        "  print()\n",
        "\n",
        "  print(\"problem using args\")\n",
        "  for key,value in kwargs.items():\n",
        "    print(f\"{key}: {value}\")\n",
        "\n",
        "\n",
        "shipping_label(\"Ms.\",\"Midhat\",street=\"Gulshan\")\n"
      ],
      "metadata": {
        "colab": {
          "base_uri": "https://localhost:8080/"
        },
        "id": "hzYhn1shtILe",
        "outputId": "31d4f310-417b-4914-f079-ce3fad55f794"
      },
      "execution_count": 55,
      "outputs": [
        {
          "output_type": "stream",
          "name": "stdout",
          "text": [
            "problem using args\n",
            "Ms.Midhat\n",
            "problem using args\n",
            "street: Gulshan\n"
          ]
        }
      ]
    },
    {
      "cell_type": "code",
      "source": [
        "def shipping_label(*args,**kwargs):\n",
        "  print(\"problem using args\")\n",
        "  for arg in args:\n",
        "    print(arg,end=\" \")\n",
        "  print(\"problem using args\")\n",
        "  print(f\"{kwargs.get('street')}\")\n",
        "  print(f\"{kwargs.get('zip')}\")\n",
        "  print(f\"{kwargs.get('province')}\")\n",
        "\n",
        "\n",
        "\n",
        "shipping_label(\"Ms.\",\"Midhat\",street=\"Gulshan\",zip='715300',province=\"Sindh\")"
      ],
      "metadata": {
        "colab": {
          "base_uri": "https://localhost:8080/"
        },
        "id": "JDRhi1FxtKLk",
        "outputId": "68a66b19-cc9c-45fd-c8a0-d3d851fe8bfa"
      },
      "execution_count": 60,
      "outputs": [
        {
          "output_type": "stream",
          "name": "stdout",
          "text": [
            "problem using args\n",
            "Ms. Midhat problem using args\n",
            "Gulshan\n",
            "715300\n",
            "Sindh\n"
          ]
        }
      ]
    },
    {
      "cell_type": "code",
      "source": [
        "#Task 1: In restaurant, when you order food, you typically specify the main course and the drink by their position in the order\n",
        "\n",
        "def order_food(maincourse,drink):\n",
        "  print(f\"You have ordered {maincourse} with complementary {drink}\")\n",
        "\n",
        "order_food(\"Alfredo Pasta\",\"Apple Fiz\")\n",
        "print()\n",
        "order_food(\"Parmesan Chicken\",\"Cherry\")\n",
        "\n",
        "\n"
      ],
      "metadata": {
        "colab": {
          "base_uri": "https://localhost:8080/"
        },
        "id": "F_CNLPYJuJDF",
        "outputId": "55c727da-a30e-451d-bc24-920144574345"
      },
      "execution_count": 74,
      "outputs": [
        {
          "output_type": "stream",
          "name": "stdout",
          "text": [
            "You have ordered Alfredo Pasta with complementary Apple Fiz\n",
            "\n",
            "You have ordered Parmesan Chicken with complementary Cherry\n"
          ]
        }
      ]
    },
    {
      "cell_type": "code",
      "source": [
        "#Task 2: Default Arguments\n",
        "def flight_booking(seatClass=\"economy\"):\n",
        "  print(f\"You have booked flight in {seatClass} class\")\n",
        "\n",
        "flight_booking()\n",
        "print()\n",
        "flight_booking(\"first\")"
      ],
      "metadata": {
        "colab": {
          "base_uri": "https://localhost:8080/"
        },
        "id": "NYsxCknSv-LR",
        "outputId": "2b4d9124-9f85-4669-d0da-db629b4d787c"
      },
      "execution_count": 73,
      "outputs": [
        {
          "output_type": "stream",
          "name": "stdout",
          "text": [
            "You have booked flight in economy class\n",
            "\n",
            "You have booked flight in first class\n"
          ]
        }
      ]
    },
    {
      "cell_type": "code",
      "source": [
        "#Task 3:\n",
        "def pizza_specification(size,topping,crust=\"Thin\"):\n",
        "  print(\"Please find your pizza specifications below: \")\n",
        "  print(f\"{size}\")\n",
        "  print(f\"You did not select any crust; therefore, your crust is by-default {crust}\") if crust==\"Thin\" else print(f\"{crust}\")\n",
        "  print(f\"{topping}\")\n",
        "\n",
        "pizza_specification(size=\"Small\",crust=\"Stuffed\",topping=\"Cheese\")\n",
        "print()\n",
        "pizza_specification(size=\"Large\",topping=\"Ranch Sauce\")"
      ],
      "metadata": {
        "colab": {
          "base_uri": "https://localhost:8080/"
        },
        "id": "pIkdyaH4wAJQ",
        "outputId": "5722f338-afc0-441d-b344-e0ec74fd54d1"
      },
      "execution_count": 76,
      "outputs": [
        {
          "output_type": "stream",
          "name": "stdout",
          "text": [
            "Please find your pizza specifications below: \n",
            "Small\n",
            "Stuffed\n",
            "Cheese\n",
            "\n",
            "Please find your pizza specifications below: \n",
            "Large\n",
            "You did not select any crust; therefore, your crust is by-default Thin\n",
            "Ranch Sauce\n"
          ]
        }
      ]
    },
    {
      "cell_type": "markdown",
      "source": [
        "## **NUMPY**"
      ],
      "metadata": {
        "id": "tnMVO1AD5EdU"
      }
    },
    {
      "cell_type": "code",
      "source": [
        "#Numpy (Numerical python)\n",
        "#pandas -> dataframe - showing data"
      ],
      "metadata": {
        "id": "Y0qqjqNY5Bp3"
      },
      "execution_count": null,
      "outputs": []
    },
    {
      "cell_type": "code",
      "source": [
        "import numpy as np"
      ],
      "metadata": {
        "id": "pnoofRHX6EU-"
      },
      "execution_count": 78,
      "outputs": []
    },
    {
      "cell_type": "code",
      "source": [
        "array_1d = np.array([1,2,3,4,5,6])\n",
        "print(\"1D Array: \", type(array_1d))"
      ],
      "metadata": {
        "colab": {
          "base_uri": "https://localhost:8080/"
        },
        "id": "MA8ZQe136FJ-",
        "outputId": "dce0e57b-f1e8-482b-978e-8d8d0a6dd5f0"
      },
      "execution_count": 79,
      "outputs": [
        {
          "output_type": "stream",
          "name": "stdout",
          "text": [
            "1D Array:  <class 'numpy.ndarray'>\n"
          ]
        }
      ]
    },
    {
      "cell_type": "code",
      "source": [
        "array_2d = np.array([[1,2,3,4,5,6],[1,2,3,4,5,6],[1,2,3,4,5,6]])\n",
        "print(\"2D Array: \", array_2d)"
      ],
      "metadata": {
        "colab": {
          "base_uri": "https://localhost:8080/"
        },
        "id": "iPdY9P2i6bjj",
        "outputId": "416f5c9a-f169-4709-da39-2d1070e40748"
      },
      "execution_count": 82,
      "outputs": [
        {
          "output_type": "stream",
          "name": "stdout",
          "text": [
            "2D Array:  [[1 2 3 4 5 6]\n",
            " [1 2 3 4 5 6]\n",
            " [1 2 3 4 5 6]]\n"
          ]
        }
      ]
    },
    {
      "cell_type": "code",
      "source": [
        "zeros_aray = np.ones((2,3))\n",
        "print(\"zeros Array: \", zeros_aray)"
      ],
      "metadata": {
        "colab": {
          "base_uri": "https://localhost:8080/"
        },
        "id": "gv1qIkqZ6m6-",
        "outputId": "5296aa2b-9a9c-4890-8b16-9ea50ebad6c4"
      },
      "execution_count": 81,
      "outputs": [
        {
          "output_type": "stream",
          "name": "stdout",
          "text": [
            "1D Array:  [[1. 1. 1.]\n",
            " [1. 1. 1.]]\n"
          ]
        }
      ]
    },
    {
      "cell_type": "code",
      "source": [
        "#Creating an array with a range of numbers 0-10 with step size 2\n",
        "range_array = np.arange(0,10,2)\n",
        "print(\"Range arrray: \", range_array)"
      ],
      "metadata": {
        "colab": {
          "base_uri": "https://localhost:8080/"
        },
        "id": "kdxoZDxQ6ypS",
        "outputId": "43b752ce-b18f-4b2e-aea9-69a13da88908"
      },
      "execution_count": 84,
      "outputs": [
        {
          "output_type": "stream",
          "name": "stdout",
          "text": [
            "Range arrray:  [0 2 4 6 8]\n"
          ]
        }
      ]
    },
    {
      "cell_type": "code",
      "source": [
        "#array of particular value\n",
        "p_array = np.full((5,4),5)\n",
        "print(p_array)"
      ],
      "metadata": {
        "colab": {
          "base_uri": "https://localhost:8080/"
        },
        "id": "Cxx8gcuu7Fqt",
        "outputId": "4d2ebc4f-f918-4c0e-a427-b4bda0bd189c"
      },
      "execution_count": 87,
      "outputs": [
        {
          "output_type": "stream",
          "name": "stdout",
          "text": [
            "[[5 5 5 5]\n",
            " [5 5 5 5]\n",
            " [5 5 5 5]\n",
            " [5 5 5 5]\n",
            " [5 5 5 5]]\n"
          ]
        }
      ]
    },
    {
      "cell_type": "code",
      "source": [
        "lin_array = np.linspace(10,30,5)\n",
        "print(lin_array)"
      ],
      "metadata": {
        "colab": {
          "base_uri": "https://localhost:8080/"
        },
        "id": "3stwvjZl7cb8",
        "outputId": "e5758c8c-0dd0-4bdb-9ede-6e832258ecbc"
      },
      "execution_count": 88,
      "outputs": [
        {
          "output_type": "stream",
          "name": "stdout",
          "text": [
            "[10. 15. 20. 25. 30.]\n"
          ]
        }
      ]
    },
    {
      "cell_type": "code",
      "source": [
        "arrange_array = np.arange(10,30,5)\n",
        "print(arrange_array)"
      ],
      "metadata": {
        "colab": {
          "base_uri": "https://localhost:8080/"
        },
        "id": "AJjvElfF7etN",
        "outputId": "e9c8c3b6-d4e4-4591-ad56-ddbf9fe3131f"
      },
      "execution_count": 95,
      "outputs": [
        {
          "output_type": "stream",
          "name": "stdout",
          "text": [
            "[10 15 20 25]\n"
          ]
        }
      ]
    },
    {
      "cell_type": "code",
      "source": [
        "a=np.random.random((3,4))\n",
        "print(a)"
      ],
      "metadata": {
        "colab": {
          "base_uri": "https://localhost:8080/"
        },
        "id": "BEOH7ATG7wNv",
        "outputId": "7e0abbd7-df87-4137-dbcf-ee25fa895b6f"
      },
      "execution_count": 93,
      "outputs": [
        {
          "output_type": "stream",
          "name": "stdout",
          "text": [
            "[[0.16148405 0.62333867 0.94444739 0.74077005]\n",
            " [0.80948098 0.64876396 0.41398428 0.71680406]\n",
            " [0.42174514 0.03070786 0.22459565 0.15424723]]\n"
          ]
        }
      ]
    },
    {
      "cell_type": "code",
      "source": [
        "a=np.random.randint(10,100,(3,5)) #3 rows 5 columns\n",
        "print(a)"
      ],
      "metadata": {
        "colab": {
          "base_uri": "https://localhost:8080/"
        },
        "id": "IW4V3XUV73Of",
        "outputId": "3f4df536-334a-40c8-9d0f-7188bc04c149"
      },
      "execution_count": 92,
      "outputs": [
        {
          "output_type": "stream",
          "name": "stdout",
          "text": [
            "[[51 46 17 93 16]\n",
            " [82 75 88 48 29]\n",
            " [25 12 62 53 88]]\n"
          ]
        }
      ]
    },
    {
      "cell_type": "code",
      "source": [
        "print(a.shape) #number of rows and columns"
      ],
      "metadata": {
        "colab": {
          "base_uri": "https://localhost:8080/"
        },
        "id": "yQGMmbYo8Oux",
        "outputId": "12baf080-5417-4278-ef83-9f22fa0a3213"
      },
      "execution_count": 96,
      "outputs": [
        {
          "output_type": "stream",
          "name": "stdout",
          "text": [
            "(3, 4)\n"
          ]
        }
      ]
    },
    {
      "cell_type": "code",
      "source": [
        "print(a.ndim) #number of square brackets"
      ],
      "metadata": {
        "colab": {
          "base_uri": "https://localhost:8080/"
        },
        "id": "H53PEoBg8Tns",
        "outputId": "16c8e230-1425-45c5-93a9-fcba3968b03d"
      },
      "execution_count": 97,
      "outputs": [
        {
          "output_type": "stream",
          "name": "stdout",
          "text": [
            "2\n"
          ]
        }
      ]
    },
    {
      "cell_type": "code",
      "source": [
        "print(a.size)"
      ],
      "metadata": {
        "colab": {
          "base_uri": "https://localhost:8080/"
        },
        "id": "EVwETESN8cXD",
        "outputId": "7b3146d0-1a81-436c-d0d9-5f5e14ac5c5f"
      },
      "execution_count": 98,
      "outputs": [
        {
          "output_type": "stream",
          "name": "stdout",
          "text": [
            "12\n"
          ]
        }
      ]
    },
    {
      "cell_type": "code",
      "source": [
        "print(a.dtype)"
      ],
      "metadata": {
        "colab": {
          "base_uri": "https://localhost:8080/"
        },
        "id": "-W2JEhhI8fCI",
        "outputId": "63e7edef-1ce6-4417-dc9b-65e17c4d6204"
      },
      "execution_count": 99,
      "outputs": [
        {
          "output_type": "stream",
          "name": "stdout",
          "text": [
            "float64\n"
          ]
        }
      ]
    },
    {
      "cell_type": "code",
      "source": [
        "a = np.random.randint(0,10,(2,3))\n",
        "print(a)\n",
        "print(a.shape)\n",
        "\n",
        "print()\n",
        "\n",
        "b=a.reshape(3,2)\n",
        "print(b)\n",
        "print(b.shape)"
      ],
      "metadata": {
        "colab": {
          "base_uri": "https://localhost:8080/"
        },
        "id": "9UKO_fS98qJ7",
        "outputId": "7da242ce-46b7-4caf-cedf-6c90a108a9ad"
      },
      "execution_count": 103,
      "outputs": [
        {
          "output_type": "stream",
          "name": "stdout",
          "text": [
            "[[8 6 0]\n",
            " [4 7 5]]\n",
            "(2, 3)\n",
            "\n",
            "[[8 6]\n",
            " [0 4]\n",
            " [7 5]]\n",
            "(3, 2)\n"
          ]
        }
      ]
    },
    {
      "cell_type": "code",
      "source": [
        "lists1 = [1,2,3,5,6,7]\n",
        "print(lists1)\n",
        "type()\n",
        "\n",
        "\n",
        "np_array = np.asarray(lists1)\n"
      ],
      "metadata": {
        "id": "xd5F4dAy9HSI"
      },
      "execution_count": null,
      "outputs": []
    },
    {
      "cell_type": "code",
      "source": [
        "a = np.random.randint(0,10,(2,3))\n",
        "b = np.random.randint(0,10,(2,3))\n",
        "np.concatenate((a,b))"
      ],
      "metadata": {
        "colab": {
          "base_uri": "https://localhost:8080/"
        },
        "id": "qZiraW3m9QOt",
        "outputId": "19ae79f1-9ccc-42d2-ddc1-e1060fc589be"
      },
      "execution_count": 112,
      "outputs": [
        {
          "output_type": "execute_result",
          "data": {
            "text/plain": [
              "array([[4, 5, 6],\n",
              "       [0, 3, 5],\n",
              "       [1, 4, 2],\n",
              "       [7, 1, 9]])"
            ]
          },
          "metadata": {},
          "execution_count": 112
        }
      ]
    },
    {
      "cell_type": "code",
      "source": [
        "#Add/Subtract/Divide\n",
        "\n",
        "print(np.add(a,b))"
      ],
      "metadata": {
        "colab": {
          "base_uri": "https://localhost:8080/"
        },
        "id": "WmmTGWbU9ZJz",
        "outputId": "8f0e7bbd-2e2b-4f8f-e358-21a0add514bd"
      },
      "execution_count": 109,
      "outputs": [
        {
          "output_type": "stream",
          "name": "stdout",
          "text": [
            "[[15  7  5]\n",
            " [ 6  8 11]]\n"
          ]
        }
      ]
    },
    {
      "cell_type": "code",
      "source": [
        "c = a+5\n",
        "print(c)"
      ],
      "metadata": {
        "colab": {
          "base_uri": "https://localhost:8080/"
        },
        "id": "1IiCe3wE9b86",
        "outputId": "d11e7bb9-e38c-4a92-be23-f167f524c9c4"
      },
      "execution_count": 104,
      "outputs": [
        {
          "output_type": "stream",
          "name": "stdout",
          "text": [
            "[[13 11  5]\n",
            " [ 9 12 10]]\n"
          ]
        }
      ]
    },
    {
      "cell_type": "code",
      "source": [
        "np.mean(a)"
      ],
      "metadata": {
        "colab": {
          "base_uri": "https://localhost:8080/"
        },
        "id": "1q45Crx_9g_0",
        "outputId": "58813571-f74e-4425-e7d0-6e0c5880e4d1"
      },
      "execution_count": 105,
      "outputs": [
        {
          "output_type": "execute_result",
          "data": {
            "text/plain": [
              "5.0"
            ]
          },
          "metadata": {},
          "execution_count": 105
        }
      ]
    },
    {
      "cell_type": "code",
      "source": [
        "from time import process_time\n",
        "\n",
        "python_list = [i for i in range(10000)]\n",
        "start_time = process_time()\n",
        "python_list = [i+5 for i in python_list]\n",
        "end_time = process_time()\n",
        "print(end_time-start_time)"
      ],
      "metadata": {
        "colab": {
          "base_uri": "https://localhost:8080/"
        },
        "id": "ZJT-hFkI9-Aj",
        "outputId": "810b22af-98aa-4f7e-c454-87de7d0cfbd4"
      },
      "execution_count": 113,
      "outputs": [
        {
          "output_type": "stream",
          "name": "stdout",
          "text": [
            "0.0013874200000003611\n"
          ]
        }
      ]
    }
  ]
}